{
 "cells": [
  {
   "cell_type": "markdown",
   "metadata": {},
   "source": [
    "In this lab, we will learn how to use the Keras library to build convolutional neural networks. We will also use the popular MNIST dataset and we will compare our results to using a conventional neural network.\n"
   ]
  },
  {
   "cell_type": "markdown",
   "metadata": {},
   "source": [
    "<h2>Convolutional Neural Networks with Keras</h2>\n",
    "\n",
    "<h3>Objective for this Notebook<h3>    \n",
    "<h5> 1. How to use the Keras library to build convolutional neural networks.</h5>\n",
    "<h5> 2. Convolutional Neural Network with One Convolutional and Pooling Layers.</h5>\n",
    "<h5> 3. Convolutional Neural Network with Two Convolutional and Pooling Layers.</h5>\n",
    "\n"
   ]
  },
  {
   "cell_type": "markdown",
   "metadata": {},
   "source": [
    "## Table of Contents\n",
    "\n",
    "<div class=\"alert alert-block alert-info\" style=\"margin-top: 20px\">\n",
    "\n",
    "<font size = 3>\n",
    "      \n",
    "1. <a href=\"#item41\">Import Keras and Packages</a>   \n",
    "2. <a href=\"#item42\">Convolutional Neural Network with One Convolutional and Pooling Layers</a>  \n",
    "3. <a href=\"#item43\">Convolutional Neural Network with Two Convolutional and Pooling Layers</a>  \n",
    "\n",
    "</font>\n",
    "</div>\n"
   ]
  },
  {
   "cell_type": "markdown",
   "metadata": {},
   "source": [
    "<a id='item41'></a>\n"
   ]
  },
  {
   "cell_type": "markdown",
   "metadata": {},
   "source": [
    "## Import Keras and Packages\n"
   ]
  },
  {
   "cell_type": "markdown",
   "metadata": {},
   "source": [
    "Let's start by importing the keras libraries and the packages that we would need to build a neural network.\n"
   ]
  },
  {
   "cell_type": "code",
   "execution_count": 4,
   "metadata": {},
   "outputs": [],
   "source": [
    "import keras\n",
    "from keras.models import Sequential\n",
    "from keras.layers import Dense\n",
    "from keras.utils import to_categorical\n",
    "\n"
   ]
  },
  {
   "cell_type": "markdown",
   "metadata": {},
   "source": [
    "When working with convolutional neural networks in particular, we will need additional packages.\n"
   ]
  },
  {
   "cell_type": "code",
   "execution_count": 6,
   "metadata": {},
   "outputs": [],
   "source": [
    "from keras.layers import Conv2D\n",
    "from keras.layers import MaxPooling2D\n",
    "from keras.layers import Flatten"
   ]
  },
  {
   "cell_type": "markdown",
   "metadata": {},
   "source": [
    "<a id='item42'></a>\n"
   ]
  },
  {
   "cell_type": "markdown",
   "metadata": {},
   "source": [
    "## Convolutional Layer with One set of convolutional and pooling layers\n"
   ]
  },
  {
   "cell_type": "code",
   "execution_count": 7,
   "metadata": {},
   "outputs": [],
   "source": [
    "# import data\n",
    "from keras.datasets import mnist\n",
    "\n",
    "# load data\n",
    "(X_train, y_train), (X_test, y_test) = mnist.load_data()\n",
    "\n",
    "# reshape to be [samples][pixels][width][height]\n",
    "X_train = X_train.reshape(X_train.shape[0], 28, 28, 1).astype('float32')\n",
    "X_test = X_test.reshape(X_test.shape[0], 28, 28, 1).astype('float32')"
   ]
  },
  {
   "cell_type": "markdown",
   "metadata": {},
   "source": [
    "Let's normalize the pixel values to be between 0 and 1\n"
   ]
  },
  {
   "cell_type": "code",
   "execution_count": 8,
   "metadata": {},
   "outputs": [],
   "source": [
    "X_train = X_train / 255 # normalize training data\n",
    "X_test = X_test / 255 # normalize test data"
   ]
  },
  {
   "cell_type": "markdown",
   "metadata": {},
   "source": [
    "Next, let's convert the target variable into binary categories\n"
   ]
  },
  {
   "cell_type": "code",
   "execution_count": 9,
   "metadata": {},
   "outputs": [],
   "source": [
    "y_train = to_categorical(y_train)\n",
    "y_test = to_categorical(y_test)\n",
    "\n",
    "num_classes = y_test.shape[1] # number of categories"
   ]
  },
  {
   "cell_type": "markdown",
   "metadata": {},
   "source": [
    "Next, let's define a function that creates our model. Let's start with one set of convolutional and pooling layers.\n"
   ]
  },
  {
   "cell_type": "code",
   "execution_count": 10,
   "metadata": {},
   "outputs": [],
   "source": [
    "def convolutional_model():\n",
    "    \n",
    "    # create model\n",
    "    model = Sequential()\n",
    "    model.add(Conv2D(16, (5, 5), strides=(1, 1), activation='relu', input_shape=(28, 28, 1)))\n",
    "    model.add(MaxPooling2D(pool_size=(2, 2), strides=(2, 2)))\n",
    "    \n",
    "    model.add(Flatten())\n",
    "    model.add(Dense(100, activation='relu'))\n",
    "    model.add(Dense(num_classes, activation='softmax'))\n",
    "    \n",
    "    # compile model\n",
    "    model.compile(optimizer='adam', loss='categorical_crossentropy',  metrics=['accuracy'])\n",
    "    return model"
   ]
  },
  {
   "cell_type": "markdown",
   "metadata": {},
   "source": [
    "Finally, let's call the function to create the model, and then let's train it and evaluate it.\n"
   ]
  },
  {
   "cell_type": "code",
   "execution_count": 11,
   "metadata": {},
   "outputs": [
    {
     "name": "stdout",
     "output_type": "stream",
     "text": [
      "Epoch 1/10\n"
     ]
    },
    {
     "name": "stderr",
     "output_type": "stream",
     "text": [
      "c:\\ironhack_downloads\\Lib\\site-packages\\keras\\src\\layers\\convolutional\\base_conv.py:107: UserWarning: Do not pass an `input_shape`/`input_dim` argument to a layer. When using Sequential models, prefer using an `Input(shape)` object as the first layer in the model instead.\n",
      "  super().__init__(activity_regularizer=activity_regularizer, **kwargs)\n"
     ]
    },
    {
     "name": "stdout",
     "output_type": "stream",
     "text": [
      "300/300 - 6s - 20ms/step - accuracy: 0.9178 - loss: 0.2930 - val_accuracy: 0.9705 - val_loss: 0.1041\n",
      "Epoch 2/10\n",
      "300/300 - 4s - 14ms/step - accuracy: 0.9748 - loss: 0.0874 - val_accuracy: 0.9830 - val_loss: 0.0572\n",
      "Epoch 3/10\n",
      "300/300 - 4s - 15ms/step - accuracy: 0.9828 - loss: 0.0575 - val_accuracy: 0.9833 - val_loss: 0.0507\n",
      "Epoch 4/10\n",
      "300/300 - 4s - 14ms/step - accuracy: 0.9862 - loss: 0.0457 - val_accuracy: 0.9865 - val_loss: 0.0468\n",
      "Epoch 5/10\n",
      "300/300 - 4s - 15ms/step - accuracy: 0.9894 - loss: 0.0352 - val_accuracy: 0.9864 - val_loss: 0.0423\n",
      "Epoch 6/10\n",
      "300/300 - 4s - 15ms/step - accuracy: 0.9912 - loss: 0.0289 - val_accuracy: 0.9885 - val_loss: 0.0361\n",
      "Epoch 7/10\n",
      "300/300 - 5s - 15ms/step - accuracy: 0.9931 - loss: 0.0233 - val_accuracy: 0.9881 - val_loss: 0.0355\n",
      "Epoch 8/10\n",
      "300/300 - 4s - 14ms/step - accuracy: 0.9939 - loss: 0.0203 - val_accuracy: 0.9867 - val_loss: 0.0401\n",
      "Epoch 9/10\n",
      "300/300 - 4s - 14ms/step - accuracy: 0.9946 - loss: 0.0171 - val_accuracy: 0.9856 - val_loss: 0.0421\n",
      "Epoch 10/10\n",
      "300/300 - 4s - 15ms/step - accuracy: 0.9956 - loss: 0.0146 - val_accuracy: 0.9889 - val_loss: 0.0362\n",
      "Accuracy: 0.9889000058174133 \n",
      " Error: 1.109999418258667\n"
     ]
    }
   ],
   "source": [
    "# build the model\n",
    "model = convolutional_model()\n",
    "\n",
    "# fit the model\n",
    "model.fit(X_train, y_train, validation_data=(X_test, y_test), epochs=10, batch_size=200, verbose=2)\n",
    "\n",
    "# evaluate the model\n",
    "scores = model.evaluate(X_test, y_test, verbose=0)\n",
    "print(\"Accuracy: {} \\n Error: {}\".format(scores[1], 100-scores[1]*100))"
   ]
  },
  {
   "cell_type": "markdown",
   "metadata": {},
   "source": [
    "------------------------------------------\n"
   ]
  },
  {
   "cell_type": "markdown",
   "metadata": {},
   "source": [
    "<a id='item43'></a>\n"
   ]
  },
  {
   "cell_type": "markdown",
   "metadata": {},
   "source": [
    "## Convolutional Layer with two sets of convolutional and pooling layers\n"
   ]
  },
  {
   "cell_type": "markdown",
   "metadata": {},
   "source": [
    "Let's redefine our convolutional model so that it has two convolutional and pooling layers instead of just one layer of each.\n"
   ]
  },
  {
   "cell_type": "code",
   "execution_count": 14,
   "metadata": {},
   "outputs": [],
   "source": [
    "def convolutional_model():\n",
    "    \n",
    "    # create model\n",
    "    model = Sequential()\n",
    "    model.add(Conv2D(16, (5, 5), activation='relu', input_shape=(28, 28, 1)))\n",
    "    #add a 2D max pool layer with a stride of 2\n",
    "    #add a conv layer of size 8 with a kernel of side 2\n",
    "    model.add(MaxPooling2D(pool_size=(2, 2), strides=(2, 2)))\n",
    "    \n",
    "    #second layer and pool\n",
    "    model.add(Conv2D(8, (2, 2), activation='relu'))  #this is layer size 8 with side of 2 --> (8,(2,2))\n",
    "    model.add(MaxPooling2D(pool_size=(2, 2), strides=(2, 2)))\n",
    "    \n",
    "    model.add(Flatten())\n",
    "    #add a dense layer with 100 neurons\n",
    "    model.add(Dense(100, activation='relu'))\n",
    "    #add a final layer and all its necessary components\n",
    "    model.add(Dense(num_classes,activation='softmax')) #output with num_classes corresponding to each neuron\n",
    "\n",
    "    # Compile model\n",
    "    model.compile(optimizer='adam', loss='categorical_crossentropy',  metrics=['accuracy'])\n",
    "    return model"
   ]
  },
  {
   "cell_type": "markdown",
   "metadata": {},
   "source": [
    "Now, let's call the function to create our new convolutional neural network, and then let's train it and evaluate it.\n"
   ]
  },
  {
   "cell_type": "code",
   "execution_count": 15,
   "metadata": {},
   "outputs": [
    {
     "name": "stderr",
     "output_type": "stream",
     "text": [
      "c:\\ironhack_downloads\\Lib\\site-packages\\keras\\src\\layers\\convolutional\\base_conv.py:107: UserWarning: Do not pass an `input_shape`/`input_dim` argument to a layer. When using Sequential models, prefer using an `Input(shape)` object as the first layer in the model instead.\n",
      "  super().__init__(activity_regularizer=activity_regularizer, **kwargs)\n"
     ]
    },
    {
     "name": "stdout",
     "output_type": "stream",
     "text": [
      "Epoch 1/10\n",
      "300/300 - 6s - 20ms/step - accuracy: 0.8651 - loss: 0.4918 - val_accuracy: 0.9644 - val_loss: 0.1241\n",
      "Epoch 2/10\n",
      "300/300 - 4s - 14ms/step - accuracy: 0.9671 - loss: 0.1117 - val_accuracy: 0.9782 - val_loss: 0.0749\n",
      "Epoch 3/10\n",
      "300/300 - 4s - 14ms/step - accuracy: 0.9766 - loss: 0.0785 - val_accuracy: 0.9820 - val_loss: 0.0599\n",
      "Epoch 4/10\n",
      "300/300 - 4s - 12ms/step - accuracy: 0.9810 - loss: 0.0641 - val_accuracy: 0.9849 - val_loss: 0.0500\n",
      "Epoch 5/10\n",
      "300/300 - 4s - 12ms/step - accuracy: 0.9829 - loss: 0.0563 - val_accuracy: 0.9855 - val_loss: 0.0491\n",
      "Epoch 6/10\n",
      "300/300 - 4s - 12ms/step - accuracy: 0.9851 - loss: 0.0488 - val_accuracy: 0.9867 - val_loss: 0.0445\n",
      "Epoch 7/10\n",
      "300/300 - 4s - 12ms/step - accuracy: 0.9867 - loss: 0.0433 - val_accuracy: 0.9878 - val_loss: 0.0391\n",
      "Epoch 8/10\n",
      "300/300 - 4s - 12ms/step - accuracy: 0.9876 - loss: 0.0395 - val_accuracy: 0.9874 - val_loss: 0.0405\n",
      "Epoch 9/10\n",
      "300/300 - 3s - 12ms/step - accuracy: 0.9895 - loss: 0.0347 - val_accuracy: 0.9882 - val_loss: 0.0369\n",
      "Epoch 10/10\n",
      "300/300 - 3s - 12ms/step - accuracy: 0.9902 - loss: 0.0319 - val_accuracy: 0.9891 - val_loss: 0.0345\n",
      "Accuracy: 0.9890999794006348 \n",
      " Error: 1.0900020599365234\n"
     ]
    }
   ],
   "source": [
    "# build the model\n",
    "model = convolutional_model()\n",
    "\n",
    "# fit the model\n",
    "model.fit(X_train, y_train, validation_data=(X_test, y_test), epochs=10, batch_size=200, verbose=2)\n",
    "\n",
    "# evaluate the model\n",
    "scores = model.evaluate(X_test, y_test, verbose=0)\n",
    "print(\"Accuracy: {} \\n Error: {}\".format(scores[1], 100-scores[1]*100))"
   ]
  },
  {
   "cell_type": "markdown",
   "metadata": {},
   "source": [
    "### Thank you for completing this lab!"
   ]
  }
 ],
 "metadata": {
  "kernelspec": {
   "display_name": "Python 3 (ipykernel)",
   "language": "python",
   "name": "python3"
  },
  "language_info": {
   "codemirror_mode": {
    "name": "ipython",
    "version": 3
   },
   "file_extension": ".py",
   "mimetype": "text/x-python",
   "name": "python",
   "nbconvert_exporter": "python",
   "pygments_lexer": "ipython3",
   "version": "3.11.7"
  }
 },
 "nbformat": 4,
 "nbformat_minor": 4
}
